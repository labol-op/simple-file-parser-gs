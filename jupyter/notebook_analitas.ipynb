{
 "cells": [
  {
   "cell_type": "code",
   "execution_count": 79,
   "id": "cbdfafda",
   "metadata": {},
   "outputs": [],
   "source": [
    "import os\n",
    "import pandas as pd\n",
    "import gspread\n",
    "from datetime import datetime"
   ]
  },
  {
   "cell_type": "code",
   "execution_count": 116,
   "id": "1a0c29fb",
   "metadata": {},
   "outputs": [],
   "source": [
    "def formatar_data(data) -> str:\n",
    "    data_formatada = datetime.strftime(data, format = \"%d/%m/%Y\")\n",
    "    return data_formatada\n",
    "\n",
    "def formatar_hora(hora) -> str:\n",
    "    hora_formatada = hora.strftime(format = \"%H:%M:%S\")\n",
    "    return hora_formatada"
   ]
  },
  {
   "cell_type": "code",
   "execution_count": 15,
   "id": "a08a3ea1",
   "metadata": {},
   "outputs": [],
   "source": [
    "x = pd.read_excel('order_h.XLSX')"
   ]
  },
  {
   "cell_type": "code",
   "execution_count": 17,
   "id": "a55f4fb2",
   "metadata": {},
   "outputs": [],
   "source": [
    "_bopisloja =  x[['Centro', 'Pedido Internet - Bemol On-line', 'Data do Pedido Bemol On-line']]"
   ]
  },
  {
   "cell_type": "code",
   "execution_count": 85,
   "id": "29f740ea",
   "metadata": {},
   "outputs": [
    {
     "name": "stderr",
     "output_type": "stream",
     "text": [
      "/tmp/ipykernel_11329/3765529695.py:2: SettingWithCopyWarning: \n",
      "A value is trying to be set on a copy of a slice from a DataFrame.\n",
      "Try using .loc[row_indexer,col_indexer] = value instead\n",
      "\n",
      "See the caveats in the documentation: https://pandas.pydata.org/pandas-docs/stable/user_guide/indexing.html#returning-a-view-versus-a-copy\n",
      "  bopisloja['Data do Pedido Bemol On-line'] = bopisloja['Data do Pedido Bemol On-line'].apply(formatar_data)\n"
     ]
    }
   ],
   "source": [
    "bopisloja = _bopisloja.query('Centro > 0')\n",
    "bopisloja['Data do Pedido Bemol On-line'] = bopisloja['Data do Pedido Bemol On-line'].apply(formatar_data)"
   ]
  },
  {
   "cell_type": "code",
   "execution_count": 126,
   "id": "c7d825a3",
   "metadata": {},
   "outputs": [
    {
     "name": "stderr",
     "output_type": "stream",
     "text": [
      "/tmp/ipykernel_11329/4205186140.py:3: SettingWithCopyWarning: \n",
      "A value is trying to be set on a copy of a slice from a DataFrame.\n",
      "Try using .loc[row_indexer,col_indexer] = value instead\n",
      "\n",
      "See the caveats in the documentation: https://pandas.pydata.org/pandas-docs/stable/user_guide/indexing.html#returning-a-view-versus-a-copy\n",
      "  bopishora['Data do Pedido Bemol On-line'] = bopishora['Data do Pedido Bemol On-line'].apply(formatar_data)\n",
      "/tmp/ipykernel_11329/4205186140.py:4: SettingWithCopyWarning: \n",
      "A value is trying to be set on a copy of a slice from a DataFrame.\n",
      "Try using .loc[row_indexer,col_indexer] = value instead\n",
      "\n",
      "See the caveats in the documentation: https://pandas.pydata.org/pandas-docs/stable/user_guide/indexing.html#returning-a-view-versus-a-copy\n",
      "  bopishora['Hora do Pedido Bemol On-line'] = bopishora['Hora do Pedido Bemol On-line'].apply(formatar_hora)\n",
      "/home/losmariio/.local/lib/python3.9/site-packages/pandas/core/frame.py:5176: SettingWithCopyWarning: \n",
      "A value is trying to be set on a copy of a slice from a DataFrame\n",
      "\n",
      "See the caveats in the documentation: https://pandas.pydata.org/pandas-docs/stable/user_guide/indexing.html#returning-a-view-versus-a-copy\n",
      "  return super().fillna(\n"
     ]
    }
   ],
   "source": [
    "bopishora = x[['Pedido Internet - Bemol On-line','Data do Pedido Bemol On-line',\n",
    "               'Hora do Pedido Bemol On-line','Caractere 1','Códido de Identificação do site']]\n",
    "bopishora['Data do Pedido Bemol On-line'] = bopishora['Data do Pedido Bemol On-line'].apply(formatar_data)\n",
    "bopishora['Hora do Pedido Bemol On-line'] = bopishora['Hora do Pedido Bemol On-line'].apply(formatar_hora)\n",
    "bopishora.fillna('', inplace = True)"
   ]
  },
  {
   "cell_type": "code",
   "execution_count": 41,
   "id": "78598b5f",
   "metadata": {},
   "outputs": [],
   "source": [
    "basepedidos = x[['Pedido Internet - Bemol On-line','Data do Pedido Bemol On-line',\n",
    "               'Hora do Pedido Bemol On-line','Códido de Identificação do site']]"
   ]
  },
  {
   "cell_type": "code",
   "execution_count": 130,
   "id": "5cd31f90",
   "metadata": {},
   "outputs": [
    {
     "name": "stderr",
     "output_type": "stream",
     "text": [
      "/tmp/ipykernel_11329/2569957811.py:1: SettingWithCopyWarning: \n",
      "A value is trying to be set on a copy of a slice from a DataFrame.\n",
      "Try using .loc[row_indexer,col_indexer] = value instead\n",
      "\n",
      "See the caveats in the documentation: https://pandas.pydata.org/pandas-docs/stable/user_guide/indexing.html#returning-a-view-versus-a-copy\n",
      "  basepedidos['Data do Pedido Bemol On-line'] = basepedidos['Data do Pedido Bemol On-line'].apply(formatar_data)\n",
      "/tmp/ipykernel_11329/2569957811.py:2: SettingWithCopyWarning: \n",
      "A value is trying to be set on a copy of a slice from a DataFrame.\n",
      "Try using .loc[row_indexer,col_indexer] = value instead\n",
      "\n",
      "See the caveats in the documentation: https://pandas.pydata.org/pandas-docs/stable/user_guide/indexing.html#returning-a-view-versus-a-copy\n",
      "  basepedidos['Hora do Pedido Bemol On-line'] = basepedidos['Hora do Pedido Bemol On-line'].apply(formatar_hora)\n"
     ]
    }
   ],
   "source": [
    "basepedidos['Data do Pedido Bemol On-line'] = basepedidos['Data do Pedido Bemol On-line'].apply(formatar_data)\n",
    "basepedidos['Hora do Pedido Bemol On-line'] = basepedidos['Hora do Pedido Bemol On-line'].apply(formatar_hora)"
   ]
  },
  {
   "cell_type": "code",
   "execution_count": 47,
   "id": "d9a04ff9",
   "metadata": {},
   "outputs": [],
   "source": [
    "fname = os.path.abspath(\"./test-auto-330418-221ec3d586fa.json\")\n",
    "gc = gspread.service_account(fname)\n",
    "sh = gc.open(\"Cópia de Acompanhamento de pedidos SETEMBRO 2021\")\n"
   ]
  },
  {
   "cell_type": "code",
   "execution_count": 49,
   "id": "da942714",
   "metadata": {},
   "outputs": [],
   "source": [
    "sh_bopisloja = sh.worksheet('BOPIS Recebido Loja')"
   ]
  },
  {
   "cell_type": "code",
   "execution_count": 50,
   "id": "36a62d3b",
   "metadata": {},
   "outputs": [
    {
     "data": {
      "text/plain": [
       "'Pedido Internet - Bemol On-line'"
      ]
     },
     "execution_count": 50,
     "metadata": {},
     "output_type": "execute_result"
    }
   ],
   "source": [
    "#sh_bopisloja.acell('B3').value"
   ]
  },
  {
   "cell_type": "code",
   "execution_count": 137,
   "id": "9c5c6b83",
   "metadata": {},
   "outputs": [
    {
     "data": {
      "text/plain": [
       "{'spreadsheetId': '1X631xStDv5gF8Hd4pMagssznGoPpErJ6rJIXhuiSN9I',\n",
       " 'updatedRange': \"'BOPIS Recebido Loja'!A4:C20\",\n",
       " 'updatedRows': 17,\n",
       " 'updatedColumns': 3,\n",
       " 'updatedCells': 51}"
      ]
     },
     "execution_count": 137,
     "metadata": {},
     "output_type": "execute_result"
    }
   ],
   "source": [
    "bopisloja_num = bopisloja.shape[0]+4\n",
    "sh_bopisloja.update(f'A4:C{bopisloja_num}',bopisloja.values.tolist())"
   ]
  },
  {
   "cell_type": "code",
   "execution_count": 96,
   "id": "f2a26a8e",
   "metadata": {},
   "outputs": [],
   "source": [
    "sh_bopishora = sh.worksheet('BOPIS por Hora')"
   ]
  },
  {
   "cell_type": "code",
   "execution_count": 125,
   "id": "c402ed63",
   "metadata": {},
   "outputs": [
    {
     "data": {
      "text/plain": [
       "{'spreadsheetId': '1X631xStDv5gF8Hd4pMagssznGoPpErJ6rJIXhuiSN9I',\n",
       " 'updatedRange': \"'BOPIS por Hora'!A2:E304\",\n",
       " 'updatedRows': 303,\n",
       " 'updatedColumns': 5,\n",
       " 'updatedCells': 1515}"
      ]
     },
     "execution_count": 125,
     "metadata": {},
     "output_type": "execute_result"
    }
   ],
   "source": [
    "bopishora_num = bopishora.shape[0]+2\n",
    "sh_bopishora.update(f'A2:E{bopishora_num}',bopishora.values.tolist())"
   ]
  },
  {
   "cell_type": "code",
   "execution_count": 128,
   "id": "bde97147",
   "metadata": {},
   "outputs": [],
   "source": [
    "sh_basepedidos =  sh.worksheet('Base PEDIDOS h/h')"
   ]
  },
  {
   "cell_type": "code",
   "execution_count": 132,
   "id": "25d661ae",
   "metadata": {},
   "outputs": [
    {
     "data": {
      "text/plain": [
       "{'spreadsheetId': '1X631xStDv5gF8Hd4pMagssznGoPpErJ6rJIXhuiSN9I',\n",
       " 'updatedRange': \"'Base PEDIDOS h/h'!A2:D304\",\n",
       " 'updatedRows': 303,\n",
       " 'updatedColumns': 4,\n",
       " 'updatedCells': 1212}"
      ]
     },
     "execution_count": 132,
     "metadata": {},
     "output_type": "execute_result"
    }
   ],
   "source": [
    "basepedidos_num = basepedidos.shape[0]+2\n",
    "sh_basepedidos.update(f'A2:D{basepedidos_num}',basepedidos.values.tolist())"
   ]
  },
  {
   "cell_type": "code",
   "execution_count": null,
   "id": "408def0c",
   "metadata": {},
   "outputs": [],
   "source": []
  }
 ],
 "metadata": {
  "kernelspec": {
   "display_name": "Python 3 (ipykernel)",
   "language": "python",
   "name": "python3"
  },
  "language_info": {
   "codemirror_mode": {
    "name": "ipython",
    "version": 3
   },
   "file_extension": ".py",
   "mimetype": "text/x-python",
   "name": "python",
   "nbconvert_exporter": "python",
   "pygments_lexer": "ipython3",
   "version": "3.9.2"
  }
 },
 "nbformat": 4,
 "nbformat_minor": 5
}
