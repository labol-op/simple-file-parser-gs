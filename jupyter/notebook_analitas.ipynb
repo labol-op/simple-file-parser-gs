{
 "cells": [
  {
   "cell_type": "code",
   "execution_count": 1,
   "id": "cbdfafda",
   "metadata": {},
   "outputs": [],
   "source": [
    "import os\n",
    "import pandas as pd\n",
    "import gspread\n",
    "from datetime import datetime, timedelta\n",
    "from threading import Thread\n",
    "import time\n",
    "ts = time.time()\n"
   ]
  },
  {
   "cell_type": "code",
   "execution_count": 2,
   "id": "1a0c29fb",
   "metadata": {},
   "outputs": [],
   "source": [
    "def formatar_data(data) -> str:\n",
    "    DATA_INICIAL = datetime(1899, 12, 30) \n",
    "    diferenca_datas = data - DATA_INICIAL\n",
    "    data_formatada = diferenca_datas.days\n",
    "    return data_formatada\n",
    "\n",
    "def formatar_hora(hora) -> str:\n",
    "    params = {\n",
    "    'hours': hora.hour,\n",
    "    'minutes': hora.minute,\n",
    "    'seconds': hora.second}\n",
    "    \n",
    "    hora_formatada = timedelta(**params) / timedelta(days=1)\n",
    "    return hora_formatada\n",
    "\n",
    "def limpar_intervalo(aba,intervalo):\n",
    "    \n",
    "    aba.batch_clear([intervalo])\n",
    "    \n",
    "fname = os.path.abspath(\"./test-auto-330418-221ec3d586fa.json\")\n",
    "gc = gspread.service_account(fname)\n",
    "sh = gc.open(\"Cópia de Acompanhamento de pedidos SETEMBRO 2021\")"
   ]
  },
  {
   "cell_type": "code",
   "execution_count": 3,
   "id": "a08a3ea1",
   "metadata": {},
   "outputs": [],
   "source": [
    "x = pd.read_excel('order_h.XLSX')"
   ]
  },
  {
   "cell_type": "code",
   "execution_count": 4,
   "id": "a55f4fb2",
   "metadata": {},
   "outputs": [],
   "source": [
    "_bopisloja =  x[['Centro', 'Pedido Internet - Bemol On-line', 'Data do Pedido Bemol On-line']]"
   ]
  },
  {
   "cell_type": "code",
   "execution_count": 5,
   "id": "29f740ea",
   "metadata": {},
   "outputs": [],
   "source": [
    "## Bopis Loja\n",
    "def bopis_loja():\n",
    "    bopisloja = _bopisloja.query('Centro > 0').copy()\n",
    "    bopisloja['Data do Pedido Bemol On-line'] = bopisloja['Data do Pedido Bemol On-line'].apply(formatar_data)\n",
    "\n",
    "    ## Lendo a aba 'BOPIS Recebido Loja'\n",
    "    sh_bopisloja = sh.worksheet('BOPIS Recebido Loja')\n",
    "\n",
    "    ## Atualiza a aba\n",
    "    bopisloja_num = bopisloja.shape[0]+4\n",
    "    limpar_intervalo(sh_bopisloja,'A4:C1500')\n",
    "    sh_bopisloja.update(f'A4:C{bopisloja_num}',bopisloja.values.tolist())\n",
    "    sh_bopisloja.format(f'C2:C{bopisloja_num}',\n",
    "                        {'numberFormat':\n",
    "                         {'type':\n",
    "                          \"DATE\"\n",
    "                          }\n",
    "                        })"
   ]
  },
  {
   "cell_type": "code",
   "execution_count": 6,
   "id": "c7d825a3",
   "metadata": {},
   "outputs": [],
   "source": [
    "## Bopis Hora\n",
    "def bopis_hora():\n",
    "    bopishora = x[['Pedido Internet - Bemol On-line','Data do Pedido Bemol On-line',\n",
    "                   'Hora do Pedido Bemol On-line','Caractere 1','Códido de Identificação do site']].copy()\n",
    "    bopishora['Data do Pedido Bemol On-line'] = bopishora['Data do Pedido Bemol On-line'].apply(formatar_data)\n",
    "    bopishora['Hora do Pedido Bemol On-line'] = bopishora['Hora do Pedido Bemol On-line'].apply(formatar_hora)\n",
    "    bopishora.fillna('', inplace = True)\n",
    "\n",
    "    ## Lendo a aba 'BOPIS por Hora'\n",
    "    sh_bopishora = sh.worksheet('BOPIS por Hora')\n",
    "\n",
    "    ## Atualiza a aba\n",
    "    bopishora_num = bopishora.shape[0]+2\n",
    "    limpar_intervalo(sh_bopishora,'A2:E15600')\n",
    "\n",
    "    sh_bopishora.update(f'A2:E{bopishora_num}',bopishora.values.tolist())\n",
    "    sh_bopishora.format(f'C2:C{bopishora_num}',\n",
    "                        {'numberFormat':\n",
    "                         {'type':\n",
    "                          \"TIME\"\n",
    "                          }\n",
    "                        })\n",
    "    sh_bopishora.format(f'B2:B{bopishora_num}',\n",
    "                        {'numberFormat':\n",
    "                         {'type':\n",
    "                          \"DATE\"\n",
    "                          }\n",
    "                        })"
   ]
  },
  {
   "cell_type": "code",
   "execution_count": 7,
   "id": "78598b5f",
   "metadata": {},
   "outputs": [],
   "source": [
    "## Base Pedidos\n",
    "def base_pedidos():\n",
    "    basepedidos = x[['Pedido Internet - Bemol On-line','Data do Pedido Bemol On-line',\n",
    "                   'Hora do Pedido Bemol On-line','Códido de Identificação do site']].copy()\n",
    "\n",
    "    basepedidos['Data do Pedido Bemol On-line'] = basepedidos['Data do Pedido Bemol On-line'].apply(formatar_data)\n",
    "    basepedidos['Hora do Pedido Bemol On-line'] = basepedidos['Hora do Pedido Bemol On-line'].apply(formatar_hora)\n",
    "\n",
    "    ## Lendo a aba 'Base PEDIDOS h/h'\n",
    "    sh_basepedidos =  sh.worksheet('Base PEDIDOS h/h')\n",
    "\n",
    "    ## Atualiza a aba\n",
    "    basepedidos_num = basepedidos.shape[0]+2\n",
    "    limpar_intervalo(sh_basepedidos,'A2:D2500')\n",
    "    sh_basepedidos.update(f'A2:D{basepedidos_num}',basepedidos.values.tolist())\n",
    "    sh_basepedidos.format(f'C2:C{basepedidos_num}',\n",
    "                        {'numberFormat':\n",
    "                         {'type':\n",
    "                          \"TIME\"\n",
    "                          }\n",
    "                        })\n",
    "    sh_basepedidos.format(f'B2:B{basepedidos_num}',\n",
    "                        {'numberFormat':\n",
    "                         {'type':\n",
    "                          \"DATE\"\n",
    "                          }\n",
    "                        })"
   ]
  },
  {
   "cell_type": "code",
   "execution_count": 8,
   "id": "8d1fc8b4",
   "metadata": {},
   "outputs": [],
   "source": [
    "t1 = Thread(target=bopis_loja)\n",
    "t2 = Thread(target=bopis_hora)\n",
    "t3 = Thread(target=base_pedidos)\n",
    "\n",
    "t1.start()\n",
    "t3.start()\n",
    "\n",
    "t1.join()\n",
    "t3.join()\n",
    "\n",
    "t2.start()\n",
    "t2.join()\n"
   ]
  },
  {
   "cell_type": "code",
   "execution_count": 9,
   "id": "9512b14d",
   "metadata": {},
   "outputs": [
    {
     "name": "stdout",
     "output_type": "stream",
     "text": [
      "3 minutos e 49 segundos\n"
     ]
    }
   ],
   "source": [
    "te = \"{} minutos e {} segundos\".format(int((time.time() - ts) // 60), int((time.time() - ts) % 60))\n",
    "print(te)"
   ]
  },
  {
   "cell_type": "code",
   "execution_count": null,
   "id": "04bd589d",
   "metadata": {},
   "outputs": [],
   "source": []
  }
 ],
 "metadata": {
  "kernelspec": {
   "display_name": "Python 3 (ipykernel)",
   "language": "python",
   "name": "python3"
  },
  "language_info": {
   "codemirror_mode": {
    "name": "ipython",
    "version": 3
   },
   "file_extension": ".py",
   "mimetype": "text/x-python",
   "name": "python",
   "nbconvert_exporter": "python",
   "pygments_lexer": "ipython3",
   "version": "3.10.0"
  }
 },
 "nbformat": 4,
 "nbformat_minor": 5
}
